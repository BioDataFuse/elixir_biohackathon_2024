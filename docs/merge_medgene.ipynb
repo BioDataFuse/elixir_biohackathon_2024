{
 "cells": [
  {
   "cell_type": "markdown",
   "metadata": {},
   "source": [
    "# Merging MedGene turtles\n",
    "\n",
    "The [VoID generator - RDF-config workflow](https://github.com/JervenBolleman/void-generator) does not work for the MedGene SPARQL endpoint. This notebook combines several files available under https://rdfportal.org/download/medgen/latest/ to generate a full VoID description of the MedGene RDF."
   ]
  },
  {
   "cell_type": "code",
   "execution_count": 1,
   "metadata": {},
   "outputs": [
    {
     "data": {
      "text/plain": [
       "'/home/javi/code/BioDataFuse/elixir_biohackathon_2024/docs'"
      ]
     },
     "execution_count": 1,
     "metadata": {},
     "output_type": "execute_result"
    }
   ],
   "source": [
    "import os\n",
    "import rdflib\n",
    "import requests\n",
    "os.getcwd()"
   ]
  },
  {
   "cell_type": "code",
   "execution_count": null,
   "metadata": {},
   "outputs": [
    {
     "name": "stdout",
     "output_type": "stream",
     "text": [
      "--2024-11-06 11:51:34--  https://rdfportal.org/download/medgen/latest/MGSAT_1.ttl\n",
      "Resolving rdfportal.org (rdfportal.org)... 133.39.78.111\n",
      "Connecting to rdfportal.org (rdfportal.org)|133.39.78.111|:443... connected.\n",
      "HTTP request sent, awaiting response... 200 OK\n",
      "Length: 246077101 (235M) [application/octet-stream]\n",
      "Saving to: ‘MGSAT_1.ttl’\n",
      "\n",
      "MGSAT_1.ttl           2%[                    ]   5,98M   952KB/s    eta 4m 32s ^C\n",
      "--2024-11-06 11:51:42--  https://rdfportal.org/download/medgen/latest/medgen_pubmed_lnk_rdf.ttl\n",
      "Resolving rdfportal.org (rdfportal.org)... 133.39.78.111\n",
      "Connecting to rdfportal.org (rdfportal.org)|133.39.78.111|:443... connected.\n",
      "HTTP request sent, awaiting response... 200 OK\n",
      "Length: 1712462422 (1,6G) [application/octet-stream]\n",
      "Saving to: ‘medgen_pubmed_lnk_rdf.ttl’\n",
      "\n",
      "nk_rdf.ttl            0%[                    ]  12,14M  1,55MB/s    eta 21m 22s"
     ]
    }
   ],
   "source": [
    "# Create a temporary directory\n",
    "os.makedirs(\"temp\", exist_ok=True)\n",
    "\n",
    "# List of URLs and corresponding filenames\n",
    "files = [\n",
    "    (\"https://rdfportal.org/download/medgen/latest/MGSAT_1.ttl\", \"temp/MGSAT_1.ttl\"),\n",
    "    (\n",
    "        \"https://rdfportal.org/download/medgen/latest/medgen_pubmed_lnk_rdf.ttl\",\n",
    "        \"temp/medgen_pubmed_lnk_rdf.ttl\",\n",
    "    ),\n",
    "    (\n",
    "        \"https://rdfportal.org/download/medgen/latest/mim2gene_medgen.ttl\",\n",
    "        \"temp/mim2gene_medgen.ttl\",\n",
    "    ),\n",
    "]\n",
    "\n",
    "# Download each file\n",
    "for url, filename in files:\n",
    "    response = requests.get(url)\n",
    "    if response.status_code == 200:\n",
    "        with open(filename, \"wb\") as f:\n",
    "            f.write(response.content)\n",
    "    else:\n",
    "        print(f\"Failed to download {url}\")"
   ]
  },
  {
   "cell_type": "code",
   "execution_count": null,
   "metadata": {},
   "outputs": [],
   "source": []
  }
 ],
 "metadata": {
  "kernelspec": {
   "display_name": "Python 3",
   "language": "python",
   "name": "python3"
  },
  "language_info": {
   "codemirror_mode": {
    "name": "ipython",
    "version": 3
   },
   "file_extension": ".py",
   "mimetype": "text/x-python",
   "name": "python",
   "nbconvert_exporter": "python",
   "pygments_lexer": "ipython3",
   "version": "3.10.12"
  }
 },
 "nbformat": 4,
 "nbformat_minor": 2
}
