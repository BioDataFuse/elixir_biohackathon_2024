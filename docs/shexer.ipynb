{
 "cells": [
  {
   "cell_type": "markdown",
   "metadata": {},
   "source": [
    "Create Shex file for ClinVar"
   ]
  },
  {
   "cell_type": "code",
   "execution_count": 1,
   "metadata": {},
   "outputs": [
    {
     "name": "stdout",
     "output_type": "stream",
     "text": [
      "/home/domin/Projects/elixir_biohackathon_2024\n"
     ]
    }
   ],
   "source": [
    "import os\n",
    "\n",
    "os.chdir(\"../\")\n",
    "!pwd"
   ]
  },
  {
   "cell_type": "code",
   "execution_count": 2,
   "metadata": {},
   "outputs": [],
   "source": [
    "#pip install shexer"
   ]
  },
  {
   "cell_type": "code",
   "execution_count": 3,
   "metadata": {},
   "outputs": [],
   "source": [
    "from shexer.shaper import Shaper\n",
    "from shexer.consts import TURTLE"
   ]
  },
  {
   "cell_type": "code",
   "execution_count": 4,
   "metadata": {},
   "outputs": [],
   "source": [
    "# Namespace-prefix pair to prettify the results\n",
    "namespaces_dict = {\"http://www.w3.org/1999/02/22-rdf-syntax-ns#\": \"rdf\",\n",
    "                   \"http://example.org/\": \"ex\",\n",
    "                   \"http://weso.es/shapes/\": \"\",\n",
    "                   \"http://www.w3.org/2001/XMLSchema#\": \"xsd\",\n",
    "                   \"http://www.w3.org/2002/07/owl#\" : \"owl\"\n",
    "                   }"
   ]
  },
  {
   "cell_type": "code",
   "execution_count": 5,
   "metadata": {},
   "outputs": [],
   "source": [
    "graph_path = os.path.join(os.getcwd(), \"graph_files/ClinVarVariationRelease_00-latest_1.ttl\")"
   ]
  },
  {
   "cell_type": "code",
   "execution_count": 6,
   "metadata": {},
   "outputs": [],
   "source": [
    "#ClinVar strings need to be fixed first\n",
    "import sys\n",
    "sys.path.append(os.getcwd()+'/helpers')\n",
    "from fix_strings import fix_string\n",
    "\n",
    "fix_string(graph_path)"
   ]
  },
  {
   "cell_type": "code",
   "execution_count": 7,
   "metadata": {},
   "outputs": [],
   "source": [
    "shaper = Shaper(all_classes_mode=True,\n",
    "                graph_file_input=graph_path,\n",
    "                input_format=TURTLE,\n",
    "                namespaces_dict=namespaces_dict)  # Default rdf:type"
   ]
  },
  {
   "cell_type": "code",
   "execution_count": null,
   "metadata": {},
   "outputs": [],
   "source": [
    "rdf_png_path = os.path.join(os.getcwd(), \"rdf_png_files/clinvar-rdf.png\")\n",
    "\n",
    "result = shaper.shex_graph(string_output=True,\n",
    "                           acceptance_threshold=0.1,\n",
    "                           to_uml_path=rdf_png_path)\n",
    "print(result)"
   ]
  },
  {
   "cell_type": "code",
   "execution_count": null,
   "metadata": {},
   "outputs": [],
   "source": [
    "from IPython.display import Image\n",
    "Image(filename='rdf_png_files/clinvar-rdf.png')"
   ]
  },
  {
   "cell_type": "markdown",
   "metadata": {},
   "source": [
    "BDF graph"
   ]
  },
  {
   "cell_type": "code",
   "execution_count": null,
   "metadata": {},
   "outputs": [],
   "source": [
    "graph_path = os.path.join(os.getcwd(), \"graph_files/pcs_bdf_graph.ttl\")\n",
    "\n",
    "shaper = Shaper(all_classes_mode=True,\n",
    "                graph_file_input=graph_path,\n",
    "                input_format=TURTLE,\n",
    "                namespaces_dict=namespaces_dict)  # Default rdf:type"
   ]
  },
  {
   "cell_type": "code",
   "execution_count": null,
   "metadata": {},
   "outputs": [],
   "source": [
    "rdf_png_path = os.path.join(os.getcwd(), \"rdf_png_files/pcs_bdf-rdf.png\")\n",
    "\n",
    "result = shaper.shex_graph(string_output=True,\n",
    "                           acceptance_threshold=0.1,\n",
    "                           to_uml_path=rdf_png_path)\n",
    "print(result)"
   ]
  },
  {
   "cell_type": "code",
   "execution_count": null,
   "metadata": {},
   "outputs": [],
   "source": [
    "from IPython.display import Image\n",
    "Image(filename='rdf_png_files/pcs_bdf-rdf.png')"
   ]
  },
  {
   "cell_type": "code",
   "execution_count": null,
   "metadata": {},
   "outputs": [],
   "source": []
  }
 ],
 "metadata": {
  "kernelspec": {
   "display_name": "Python 3 (ipykernel)",
   "language": "python",
   "name": "python3"
  },
  "language_info": {
   "codemirror_mode": {
    "name": "ipython",
    "version": 3
   },
   "file_extension": ".py",
   "mimetype": "text/x-python",
   "name": "python",
   "nbconvert_exporter": "python",
   "pygments_lexer": "ipython3",
   "version": "3.12.7"
  }
 },
 "nbformat": 4,
 "nbformat_minor": 4
}
